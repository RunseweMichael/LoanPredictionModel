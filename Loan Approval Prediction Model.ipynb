{
 "cells": [
  {
   "cell_type": "code",
   "execution_count": null,
   "id": "fbf65ce4",
   "metadata": {},
   "outputs": [],
   "source": []
  },
  {
   "cell_type": "code",
   "execution_count": 1,
   "id": "fc4c5bfa",
   "metadata": {},
   "outputs": [],
   "source": [
    "import numpy as np\n",
    "import pandas as pd\n",
    "import matplotlib.pyplot as plt\n",
    "import seaborn as sns"
   ]
  },
  {
   "cell_type": "code",
   "execution_count": null,
   "id": "02fcb911",
   "metadata": {},
   "outputs": [],
   "source": []
  },
  {
   "cell_type": "code",
   "execution_count": 2,
   "id": "d07a0973",
   "metadata": {},
   "outputs": [
    {
     "data": {
      "text/html": [
       "<div>\n",
       "<style scoped>\n",
       "    .dataframe tbody tr th:only-of-type {\n",
       "        vertical-align: middle;\n",
       "    }\n",
       "\n",
       "    .dataframe tbody tr th {\n",
       "        vertical-align: top;\n",
       "    }\n",
       "\n",
       "    .dataframe thead th {\n",
       "        text-align: right;\n",
       "    }\n",
       "</style>\n",
       "<table border=\"1\" class=\"dataframe\">\n",
       "  <thead>\n",
       "    <tr style=\"text-align: right;\">\n",
       "      <th></th>\n",
       "      <th>loan_id</th>\n",
       "      <th>no_of_dependents</th>\n",
       "      <th>education</th>\n",
       "      <th>self_employed</th>\n",
       "      <th>income_annum</th>\n",
       "      <th>loan_amount</th>\n",
       "      <th>loan_term</th>\n",
       "      <th>cibil_score</th>\n",
       "      <th>residential_assets_value</th>\n",
       "      <th>commercial_assets_value</th>\n",
       "      <th>luxury_assets_value</th>\n",
       "      <th>bank_asset_value</th>\n",
       "      <th>loan_status</th>\n",
       "    </tr>\n",
       "  </thead>\n",
       "  <tbody>\n",
       "    <tr>\n",
       "      <th>0</th>\n",
       "      <td>1</td>\n",
       "      <td>2</td>\n",
       "      <td>Graduate</td>\n",
       "      <td>No</td>\n",
       "      <td>9600000</td>\n",
       "      <td>29900000</td>\n",
       "      <td>12</td>\n",
       "      <td>778</td>\n",
       "      <td>2400000</td>\n",
       "      <td>17600000</td>\n",
       "      <td>22700000</td>\n",
       "      <td>8000000</td>\n",
       "      <td>Approved</td>\n",
       "    </tr>\n",
       "    <tr>\n",
       "      <th>1</th>\n",
       "      <td>2</td>\n",
       "      <td>0</td>\n",
       "      <td>Not Graduate</td>\n",
       "      <td>Yes</td>\n",
       "      <td>4100000</td>\n",
       "      <td>12200000</td>\n",
       "      <td>8</td>\n",
       "      <td>417</td>\n",
       "      <td>2700000</td>\n",
       "      <td>2200000</td>\n",
       "      <td>8800000</td>\n",
       "      <td>3300000</td>\n",
       "      <td>Rejected</td>\n",
       "    </tr>\n",
       "    <tr>\n",
       "      <th>2</th>\n",
       "      <td>3</td>\n",
       "      <td>3</td>\n",
       "      <td>Graduate</td>\n",
       "      <td>No</td>\n",
       "      <td>9100000</td>\n",
       "      <td>29700000</td>\n",
       "      <td>20</td>\n",
       "      <td>506</td>\n",
       "      <td>7100000</td>\n",
       "      <td>4500000</td>\n",
       "      <td>33300000</td>\n",
       "      <td>12800000</td>\n",
       "      <td>Rejected</td>\n",
       "    </tr>\n",
       "    <tr>\n",
       "      <th>3</th>\n",
       "      <td>4</td>\n",
       "      <td>3</td>\n",
       "      <td>Graduate</td>\n",
       "      <td>No</td>\n",
       "      <td>8200000</td>\n",
       "      <td>30700000</td>\n",
       "      <td>8</td>\n",
       "      <td>467</td>\n",
       "      <td>18200000</td>\n",
       "      <td>3300000</td>\n",
       "      <td>23300000</td>\n",
       "      <td>7900000</td>\n",
       "      <td>Rejected</td>\n",
       "    </tr>\n",
       "    <tr>\n",
       "      <th>4</th>\n",
       "      <td>5</td>\n",
       "      <td>5</td>\n",
       "      <td>Not Graduate</td>\n",
       "      <td>Yes</td>\n",
       "      <td>9800000</td>\n",
       "      <td>24200000</td>\n",
       "      <td>20</td>\n",
       "      <td>382</td>\n",
       "      <td>12400000</td>\n",
       "      <td>8200000</td>\n",
       "      <td>29400000</td>\n",
       "      <td>5000000</td>\n",
       "      <td>Rejected</td>\n",
       "    </tr>\n",
       "    <tr>\n",
       "      <th>...</th>\n",
       "      <td>...</td>\n",
       "      <td>...</td>\n",
       "      <td>...</td>\n",
       "      <td>...</td>\n",
       "      <td>...</td>\n",
       "      <td>...</td>\n",
       "      <td>...</td>\n",
       "      <td>...</td>\n",
       "      <td>...</td>\n",
       "      <td>...</td>\n",
       "      <td>...</td>\n",
       "      <td>...</td>\n",
       "      <td>...</td>\n",
       "    </tr>\n",
       "    <tr>\n",
       "      <th>4264</th>\n",
       "      <td>4265</td>\n",
       "      <td>5</td>\n",
       "      <td>Graduate</td>\n",
       "      <td>Yes</td>\n",
       "      <td>1000000</td>\n",
       "      <td>2300000</td>\n",
       "      <td>12</td>\n",
       "      <td>317</td>\n",
       "      <td>2800000</td>\n",
       "      <td>500000</td>\n",
       "      <td>3300000</td>\n",
       "      <td>800000</td>\n",
       "      <td>Rejected</td>\n",
       "    </tr>\n",
       "    <tr>\n",
       "      <th>4265</th>\n",
       "      <td>4266</td>\n",
       "      <td>0</td>\n",
       "      <td>Not Graduate</td>\n",
       "      <td>Yes</td>\n",
       "      <td>3300000</td>\n",
       "      <td>11300000</td>\n",
       "      <td>20</td>\n",
       "      <td>559</td>\n",
       "      <td>4200000</td>\n",
       "      <td>2900000</td>\n",
       "      <td>11000000</td>\n",
       "      <td>1900000</td>\n",
       "      <td>Approved</td>\n",
       "    </tr>\n",
       "    <tr>\n",
       "      <th>4266</th>\n",
       "      <td>4267</td>\n",
       "      <td>2</td>\n",
       "      <td>Not Graduate</td>\n",
       "      <td>No</td>\n",
       "      <td>6500000</td>\n",
       "      <td>23900000</td>\n",
       "      <td>18</td>\n",
       "      <td>457</td>\n",
       "      <td>1200000</td>\n",
       "      <td>12400000</td>\n",
       "      <td>18100000</td>\n",
       "      <td>7300000</td>\n",
       "      <td>Rejected</td>\n",
       "    </tr>\n",
       "    <tr>\n",
       "      <th>4267</th>\n",
       "      <td>4268</td>\n",
       "      <td>1</td>\n",
       "      <td>Not Graduate</td>\n",
       "      <td>No</td>\n",
       "      <td>4100000</td>\n",
       "      <td>12800000</td>\n",
       "      <td>8</td>\n",
       "      <td>780</td>\n",
       "      <td>8200000</td>\n",
       "      <td>700000</td>\n",
       "      <td>14100000</td>\n",
       "      <td>5800000</td>\n",
       "      <td>Approved</td>\n",
       "    </tr>\n",
       "    <tr>\n",
       "      <th>4268</th>\n",
       "      <td>4269</td>\n",
       "      <td>1</td>\n",
       "      <td>Graduate</td>\n",
       "      <td>No</td>\n",
       "      <td>9200000</td>\n",
       "      <td>29700000</td>\n",
       "      <td>10</td>\n",
       "      <td>607</td>\n",
       "      <td>17800000</td>\n",
       "      <td>11800000</td>\n",
       "      <td>35700000</td>\n",
       "      <td>12000000</td>\n",
       "      <td>Approved</td>\n",
       "    </tr>\n",
       "  </tbody>\n",
       "</table>\n",
       "<p>4269 rows × 13 columns</p>\n",
       "</div>"
      ],
      "text/plain": [
       "      loan_id   no_of_dependents      education  self_employed   income_annum  \\\n",
       "0           1                  2       Graduate             No        9600000   \n",
       "1           2                  0   Not Graduate            Yes        4100000   \n",
       "2           3                  3       Graduate             No        9100000   \n",
       "3           4                  3       Graduate             No        8200000   \n",
       "4           5                  5   Not Graduate            Yes        9800000   \n",
       "...       ...                ...            ...            ...            ...   \n",
       "4264     4265                  5       Graduate            Yes        1000000   \n",
       "4265     4266                  0   Not Graduate            Yes        3300000   \n",
       "4266     4267                  2   Not Graduate             No        6500000   \n",
       "4267     4268                  1   Not Graduate             No        4100000   \n",
       "4268     4269                  1       Graduate             No        9200000   \n",
       "\n",
       "       loan_amount   loan_term   cibil_score   residential_assets_value  \\\n",
       "0         29900000          12           778                    2400000   \n",
       "1         12200000           8           417                    2700000   \n",
       "2         29700000          20           506                    7100000   \n",
       "3         30700000           8           467                   18200000   \n",
       "4         24200000          20           382                   12400000   \n",
       "...            ...         ...           ...                        ...   \n",
       "4264       2300000          12           317                    2800000   \n",
       "4265      11300000          20           559                    4200000   \n",
       "4266      23900000          18           457                    1200000   \n",
       "4267      12800000           8           780                    8200000   \n",
       "4268      29700000          10           607                   17800000   \n",
       "\n",
       "       commercial_assets_value   luxury_assets_value   bank_asset_value  \\\n",
       "0                     17600000              22700000            8000000   \n",
       "1                      2200000               8800000            3300000   \n",
       "2                      4500000              33300000           12800000   \n",
       "3                      3300000              23300000            7900000   \n",
       "4                      8200000              29400000            5000000   \n",
       "...                        ...                   ...                ...   \n",
       "4264                    500000               3300000             800000   \n",
       "4265                   2900000              11000000            1900000   \n",
       "4266                  12400000              18100000            7300000   \n",
       "4267                    700000              14100000            5800000   \n",
       "4268                  11800000              35700000           12000000   \n",
       "\n",
       "      loan_status  \n",
       "0        Approved  \n",
       "1        Rejected  \n",
       "2        Rejected  \n",
       "3        Rejected  \n",
       "4        Rejected  \n",
       "...           ...  \n",
       "4264     Rejected  \n",
       "4265     Approved  \n",
       "4266     Rejected  \n",
       "4267     Approved  \n",
       "4268     Approved  \n",
       "\n",
       "[4269 rows x 13 columns]"
      ]
     },
     "execution_count": 2,
     "metadata": {},
     "output_type": "execute_result"
    }
   ],
   "source": [
    "loan_data = pd.read_csv(\"loan_approval_dataset.csv\")\n",
    "loan_data"
   ]
  },
  {
   "cell_type": "code",
   "execution_count": null,
   "id": "24a7e422",
   "metadata": {},
   "outputs": [],
   "source": []
  },
  {
   "cell_type": "code",
   "execution_count": 3,
   "id": "28c08e59",
   "metadata": {},
   "outputs": [],
   "source": [
    "loan_data.columns = loan_data.columns.str.strip()\n",
    "loan_data = loan_data.apply(lambda x: x.str.strip() if x.dtype == \"object\" else x)"
   ]
  },
  {
   "cell_type": "code",
   "execution_count": null,
   "id": "e18b9bde",
   "metadata": {},
   "outputs": [],
   "source": []
  },
  {
   "cell_type": "code",
   "execution_count": 4,
   "id": "4e89c587",
   "metadata": {},
   "outputs": [
    {
     "data": {
      "text/plain": [
       "loan_id                     0\n",
       "no_of_dependents            0\n",
       "education                   0\n",
       "self_employed               0\n",
       "income_annum                0\n",
       "loan_amount                 0\n",
       "loan_term                   0\n",
       "cibil_score                 0\n",
       "residential_assets_value    0\n",
       "commercial_assets_value     0\n",
       "luxury_assets_value         0\n",
       "bank_asset_value            0\n",
       "loan_status                 0\n",
       "dtype: int64"
      ]
     },
     "execution_count": 4,
     "metadata": {},
     "output_type": "execute_result"
    }
   ],
   "source": [
    "loan_data.isnull().sum()"
   ]
  },
  {
   "cell_type": "code",
   "execution_count": 5,
   "id": "fb5cbd6d",
   "metadata": {},
   "outputs": [
    {
     "data": {
      "text/html": [
       "<div>\n",
       "<style scoped>\n",
       "    .dataframe tbody tr th:only-of-type {\n",
       "        vertical-align: middle;\n",
       "    }\n",
       "\n",
       "    .dataframe tbody tr th {\n",
       "        vertical-align: top;\n",
       "    }\n",
       "\n",
       "    .dataframe thead th {\n",
       "        text-align: right;\n",
       "    }\n",
       "</style>\n",
       "<table border=\"1\" class=\"dataframe\">\n",
       "  <thead>\n",
       "    <tr style=\"text-align: right;\">\n",
       "      <th></th>\n",
       "      <th>loan_id</th>\n",
       "      <th>no_of_dependents</th>\n",
       "      <th>income_annum</th>\n",
       "      <th>loan_amount</th>\n",
       "      <th>loan_term</th>\n",
       "      <th>cibil_score</th>\n",
       "      <th>residential_assets_value</th>\n",
       "      <th>commercial_assets_value</th>\n",
       "      <th>luxury_assets_value</th>\n",
       "      <th>bank_asset_value</th>\n",
       "    </tr>\n",
       "  </thead>\n",
       "  <tbody>\n",
       "    <tr>\n",
       "      <th>count</th>\n",
       "      <td>4269.000000</td>\n",
       "      <td>4269.000000</td>\n",
       "      <td>4.269000e+03</td>\n",
       "      <td>4.269000e+03</td>\n",
       "      <td>4269.000000</td>\n",
       "      <td>4269.000000</td>\n",
       "      <td>4.269000e+03</td>\n",
       "      <td>4.269000e+03</td>\n",
       "      <td>4.269000e+03</td>\n",
       "      <td>4.269000e+03</td>\n",
       "    </tr>\n",
       "    <tr>\n",
       "      <th>mean</th>\n",
       "      <td>2135.000000</td>\n",
       "      <td>2.498712</td>\n",
       "      <td>5.059124e+06</td>\n",
       "      <td>1.513345e+07</td>\n",
       "      <td>10.900445</td>\n",
       "      <td>599.936051</td>\n",
       "      <td>7.472617e+06</td>\n",
       "      <td>4.973155e+06</td>\n",
       "      <td>1.512631e+07</td>\n",
       "      <td>4.976692e+06</td>\n",
       "    </tr>\n",
       "    <tr>\n",
       "      <th>std</th>\n",
       "      <td>1232.498479</td>\n",
       "      <td>1.695910</td>\n",
       "      <td>2.806840e+06</td>\n",
       "      <td>9.043363e+06</td>\n",
       "      <td>5.709187</td>\n",
       "      <td>172.430401</td>\n",
       "      <td>6.503637e+06</td>\n",
       "      <td>4.388966e+06</td>\n",
       "      <td>9.103754e+06</td>\n",
       "      <td>3.250185e+06</td>\n",
       "    </tr>\n",
       "    <tr>\n",
       "      <th>min</th>\n",
       "      <td>1.000000</td>\n",
       "      <td>0.000000</td>\n",
       "      <td>2.000000e+05</td>\n",
       "      <td>3.000000e+05</td>\n",
       "      <td>2.000000</td>\n",
       "      <td>300.000000</td>\n",
       "      <td>-1.000000e+05</td>\n",
       "      <td>0.000000e+00</td>\n",
       "      <td>3.000000e+05</td>\n",
       "      <td>0.000000e+00</td>\n",
       "    </tr>\n",
       "    <tr>\n",
       "      <th>25%</th>\n",
       "      <td>1068.000000</td>\n",
       "      <td>1.000000</td>\n",
       "      <td>2.700000e+06</td>\n",
       "      <td>7.700000e+06</td>\n",
       "      <td>6.000000</td>\n",
       "      <td>453.000000</td>\n",
       "      <td>2.200000e+06</td>\n",
       "      <td>1.300000e+06</td>\n",
       "      <td>7.500000e+06</td>\n",
       "      <td>2.300000e+06</td>\n",
       "    </tr>\n",
       "    <tr>\n",
       "      <th>50%</th>\n",
       "      <td>2135.000000</td>\n",
       "      <td>3.000000</td>\n",
       "      <td>5.100000e+06</td>\n",
       "      <td>1.450000e+07</td>\n",
       "      <td>10.000000</td>\n",
       "      <td>600.000000</td>\n",
       "      <td>5.600000e+06</td>\n",
       "      <td>3.700000e+06</td>\n",
       "      <td>1.460000e+07</td>\n",
       "      <td>4.600000e+06</td>\n",
       "    </tr>\n",
       "    <tr>\n",
       "      <th>75%</th>\n",
       "      <td>3202.000000</td>\n",
       "      <td>4.000000</td>\n",
       "      <td>7.500000e+06</td>\n",
       "      <td>2.150000e+07</td>\n",
       "      <td>16.000000</td>\n",
       "      <td>748.000000</td>\n",
       "      <td>1.130000e+07</td>\n",
       "      <td>7.600000e+06</td>\n",
       "      <td>2.170000e+07</td>\n",
       "      <td>7.100000e+06</td>\n",
       "    </tr>\n",
       "    <tr>\n",
       "      <th>max</th>\n",
       "      <td>4269.000000</td>\n",
       "      <td>5.000000</td>\n",
       "      <td>9.900000e+06</td>\n",
       "      <td>3.950000e+07</td>\n",
       "      <td>20.000000</td>\n",
       "      <td>900.000000</td>\n",
       "      <td>2.910000e+07</td>\n",
       "      <td>1.940000e+07</td>\n",
       "      <td>3.920000e+07</td>\n",
       "      <td>1.470000e+07</td>\n",
       "    </tr>\n",
       "  </tbody>\n",
       "</table>\n",
       "</div>"
      ],
      "text/plain": [
       "           loan_id  no_of_dependents  income_annum   loan_amount    loan_term  \\\n",
       "count  4269.000000       4269.000000  4.269000e+03  4.269000e+03  4269.000000   \n",
       "mean   2135.000000          2.498712  5.059124e+06  1.513345e+07    10.900445   \n",
       "std    1232.498479          1.695910  2.806840e+06  9.043363e+06     5.709187   \n",
       "min       1.000000          0.000000  2.000000e+05  3.000000e+05     2.000000   \n",
       "25%    1068.000000          1.000000  2.700000e+06  7.700000e+06     6.000000   \n",
       "50%    2135.000000          3.000000  5.100000e+06  1.450000e+07    10.000000   \n",
       "75%    3202.000000          4.000000  7.500000e+06  2.150000e+07    16.000000   \n",
       "max    4269.000000          5.000000  9.900000e+06  3.950000e+07    20.000000   \n",
       "\n",
       "       cibil_score  residential_assets_value  commercial_assets_value  \\\n",
       "count  4269.000000              4.269000e+03             4.269000e+03   \n",
       "mean    599.936051              7.472617e+06             4.973155e+06   \n",
       "std     172.430401              6.503637e+06             4.388966e+06   \n",
       "min     300.000000             -1.000000e+05             0.000000e+00   \n",
       "25%     453.000000              2.200000e+06             1.300000e+06   \n",
       "50%     600.000000              5.600000e+06             3.700000e+06   \n",
       "75%     748.000000              1.130000e+07             7.600000e+06   \n",
       "max     900.000000              2.910000e+07             1.940000e+07   \n",
       "\n",
       "       luxury_assets_value  bank_asset_value  \n",
       "count         4.269000e+03      4.269000e+03  \n",
       "mean          1.512631e+07      4.976692e+06  \n",
       "std           9.103754e+06      3.250185e+06  \n",
       "min           3.000000e+05      0.000000e+00  \n",
       "25%           7.500000e+06      2.300000e+06  \n",
       "50%           1.460000e+07      4.600000e+06  \n",
       "75%           2.170000e+07      7.100000e+06  \n",
       "max           3.920000e+07      1.470000e+07  "
      ]
     },
     "execution_count": 5,
     "metadata": {},
     "output_type": "execute_result"
    }
   ],
   "source": [
    "loan_data.describe()"
   ]
  },
  {
   "cell_type": "code",
   "execution_count": 6,
   "id": "a4b68728",
   "metadata": {},
   "outputs": [
    {
     "data": {
      "text/html": [
       "<div>\n",
       "<style scoped>\n",
       "    .dataframe tbody tr th:only-of-type {\n",
       "        vertical-align: middle;\n",
       "    }\n",
       "\n",
       "    .dataframe tbody tr th {\n",
       "        vertical-align: top;\n",
       "    }\n",
       "\n",
       "    .dataframe thead th {\n",
       "        text-align: right;\n",
       "    }\n",
       "</style>\n",
       "<table border=\"1\" class=\"dataframe\">\n",
       "  <thead>\n",
       "    <tr style=\"text-align: right;\">\n",
       "      <th></th>\n",
       "      <th>loan_id</th>\n",
       "      <th>no_of_dependents</th>\n",
       "      <th>education</th>\n",
       "      <th>self_employed</th>\n",
       "      <th>income_annum</th>\n",
       "      <th>loan_amount</th>\n",
       "      <th>loan_term</th>\n",
       "      <th>cibil_score</th>\n",
       "      <th>residential_assets_value</th>\n",
       "      <th>commercial_assets_value</th>\n",
       "      <th>luxury_assets_value</th>\n",
       "      <th>bank_asset_value</th>\n",
       "      <th>loan_status</th>\n",
       "    </tr>\n",
       "  </thead>\n",
       "  <tbody>\n",
       "    <tr>\n",
       "      <th>0</th>\n",
       "      <td>1</td>\n",
       "      <td>2</td>\n",
       "      <td>Graduate</td>\n",
       "      <td>No</td>\n",
       "      <td>9600000</td>\n",
       "      <td>29900000</td>\n",
       "      <td>12</td>\n",
       "      <td>778</td>\n",
       "      <td>2400000</td>\n",
       "      <td>17600000</td>\n",
       "      <td>22700000</td>\n",
       "      <td>8000000</td>\n",
       "      <td>Approved</td>\n",
       "    </tr>\n",
       "    <tr>\n",
       "      <th>1</th>\n",
       "      <td>2</td>\n",
       "      <td>0</td>\n",
       "      <td>Not Graduate</td>\n",
       "      <td>Yes</td>\n",
       "      <td>4100000</td>\n",
       "      <td>12200000</td>\n",
       "      <td>8</td>\n",
       "      <td>417</td>\n",
       "      <td>2700000</td>\n",
       "      <td>2200000</td>\n",
       "      <td>8800000</td>\n",
       "      <td>3300000</td>\n",
       "      <td>Rejected</td>\n",
       "    </tr>\n",
       "    <tr>\n",
       "      <th>2</th>\n",
       "      <td>3</td>\n",
       "      <td>3</td>\n",
       "      <td>Graduate</td>\n",
       "      <td>No</td>\n",
       "      <td>9100000</td>\n",
       "      <td>29700000</td>\n",
       "      <td>20</td>\n",
       "      <td>506</td>\n",
       "      <td>7100000</td>\n",
       "      <td>4500000</td>\n",
       "      <td>33300000</td>\n",
       "      <td>12800000</td>\n",
       "      <td>Rejected</td>\n",
       "    </tr>\n",
       "    <tr>\n",
       "      <th>3</th>\n",
       "      <td>4</td>\n",
       "      <td>3</td>\n",
       "      <td>Graduate</td>\n",
       "      <td>No</td>\n",
       "      <td>8200000</td>\n",
       "      <td>30700000</td>\n",
       "      <td>8</td>\n",
       "      <td>467</td>\n",
       "      <td>18200000</td>\n",
       "      <td>3300000</td>\n",
       "      <td>23300000</td>\n",
       "      <td>7900000</td>\n",
       "      <td>Rejected</td>\n",
       "    </tr>\n",
       "    <tr>\n",
       "      <th>4</th>\n",
       "      <td>5</td>\n",
       "      <td>5</td>\n",
       "      <td>Not Graduate</td>\n",
       "      <td>Yes</td>\n",
       "      <td>9800000</td>\n",
       "      <td>24200000</td>\n",
       "      <td>20</td>\n",
       "      <td>382</td>\n",
       "      <td>12400000</td>\n",
       "      <td>8200000</td>\n",
       "      <td>29400000</td>\n",
       "      <td>5000000</td>\n",
       "      <td>Rejected</td>\n",
       "    </tr>\n",
       "  </tbody>\n",
       "</table>\n",
       "</div>"
      ],
      "text/plain": [
       "   loan_id  no_of_dependents     education self_employed  income_annum  \\\n",
       "0        1                 2      Graduate            No       9600000   \n",
       "1        2                 0  Not Graduate           Yes       4100000   \n",
       "2        3                 3      Graduate            No       9100000   \n",
       "3        4                 3      Graduate            No       8200000   \n",
       "4        5                 5  Not Graduate           Yes       9800000   \n",
       "\n",
       "   loan_amount  loan_term  cibil_score  residential_assets_value  \\\n",
       "0     29900000         12          778                   2400000   \n",
       "1     12200000          8          417                   2700000   \n",
       "2     29700000         20          506                   7100000   \n",
       "3     30700000          8          467                  18200000   \n",
       "4     24200000         20          382                  12400000   \n",
       "\n",
       "   commercial_assets_value  luxury_assets_value  bank_asset_value loan_status  \n",
       "0                 17600000             22700000           8000000    Approved  \n",
       "1                  2200000              8800000           3300000    Rejected  \n",
       "2                  4500000             33300000          12800000    Rejected  \n",
       "3                  3300000             23300000           7900000    Rejected  \n",
       "4                  8200000             29400000           5000000    Rejected  "
      ]
     },
     "execution_count": 6,
     "metadata": {},
     "output_type": "execute_result"
    }
   ],
   "source": [
    "loan_data.head()"
   ]
  },
  {
   "cell_type": "code",
   "execution_count": 7,
   "id": "5d9ebd3c",
   "metadata": {},
   "outputs": [
    {
     "name": "stdout",
     "output_type": "stream",
     "text": [
      "<class 'pandas.core.frame.DataFrame'>\n",
      "RangeIndex: 4269 entries, 0 to 4268\n",
      "Data columns (total 13 columns):\n",
      " #   Column                    Non-Null Count  Dtype \n",
      "---  ------                    --------------  ----- \n",
      " 0   loan_id                   4269 non-null   int64 \n",
      " 1   no_of_dependents          4269 non-null   int64 \n",
      " 2   education                 4269 non-null   object\n",
      " 3   self_employed             4269 non-null   object\n",
      " 4   income_annum              4269 non-null   int64 \n",
      " 5   loan_amount               4269 non-null   int64 \n",
      " 6   loan_term                 4269 non-null   int64 \n",
      " 7   cibil_score               4269 non-null   int64 \n",
      " 8   residential_assets_value  4269 non-null   int64 \n",
      " 9   commercial_assets_value   4269 non-null   int64 \n",
      " 10  luxury_assets_value       4269 non-null   int64 \n",
      " 11  bank_asset_value          4269 non-null   int64 \n",
      " 12  loan_status               4269 non-null   object\n",
      "dtypes: int64(10), object(3)\n",
      "memory usage: 433.7+ KB\n"
     ]
    }
   ],
   "source": [
    "loan_data.info()"
   ]
  },
  {
   "cell_type": "code",
   "execution_count": null,
   "id": "91df1185",
   "metadata": {},
   "outputs": [],
   "source": []
  },
  {
   "cell_type": "code",
   "execution_count": 8,
   "id": "02e1b680",
   "metadata": {},
   "outputs": [],
   "source": [
    "X = loan_data.drop([\"loan_id\",\"no_of_dependents\",\"education\",\"self_employed\",\"loan_status\"], axis=1)"
   ]
  },
  {
   "cell_type": "code",
   "execution_count": 9,
   "id": "f208d3d2",
   "metadata": {},
   "outputs": [
    {
     "data": {
      "text/html": [
       "<div>\n",
       "<style scoped>\n",
       "    .dataframe tbody tr th:only-of-type {\n",
       "        vertical-align: middle;\n",
       "    }\n",
       "\n",
       "    .dataframe tbody tr th {\n",
       "        vertical-align: top;\n",
       "    }\n",
       "\n",
       "    .dataframe thead th {\n",
       "        text-align: right;\n",
       "    }\n",
       "</style>\n",
       "<table border=\"1\" class=\"dataframe\">\n",
       "  <thead>\n",
       "    <tr style=\"text-align: right;\">\n",
       "      <th></th>\n",
       "      <th>income_annum</th>\n",
       "      <th>loan_amount</th>\n",
       "      <th>loan_term</th>\n",
       "      <th>cibil_score</th>\n",
       "      <th>residential_assets_value</th>\n",
       "      <th>commercial_assets_value</th>\n",
       "      <th>luxury_assets_value</th>\n",
       "      <th>bank_asset_value</th>\n",
       "    </tr>\n",
       "  </thead>\n",
       "  <tbody>\n",
       "    <tr>\n",
       "      <th>count</th>\n",
       "      <td>4.269000e+03</td>\n",
       "      <td>4.269000e+03</td>\n",
       "      <td>4269.000000</td>\n",
       "      <td>4269.000000</td>\n",
       "      <td>4.269000e+03</td>\n",
       "      <td>4.269000e+03</td>\n",
       "      <td>4.269000e+03</td>\n",
       "      <td>4.269000e+03</td>\n",
       "    </tr>\n",
       "    <tr>\n",
       "      <th>mean</th>\n",
       "      <td>5.059124e+06</td>\n",
       "      <td>1.513345e+07</td>\n",
       "      <td>10.900445</td>\n",
       "      <td>599.936051</td>\n",
       "      <td>7.472617e+06</td>\n",
       "      <td>4.973155e+06</td>\n",
       "      <td>1.512631e+07</td>\n",
       "      <td>4.976692e+06</td>\n",
       "    </tr>\n",
       "    <tr>\n",
       "      <th>std</th>\n",
       "      <td>2.806840e+06</td>\n",
       "      <td>9.043363e+06</td>\n",
       "      <td>5.709187</td>\n",
       "      <td>172.430401</td>\n",
       "      <td>6.503637e+06</td>\n",
       "      <td>4.388966e+06</td>\n",
       "      <td>9.103754e+06</td>\n",
       "      <td>3.250185e+06</td>\n",
       "    </tr>\n",
       "    <tr>\n",
       "      <th>min</th>\n",
       "      <td>2.000000e+05</td>\n",
       "      <td>3.000000e+05</td>\n",
       "      <td>2.000000</td>\n",
       "      <td>300.000000</td>\n",
       "      <td>-1.000000e+05</td>\n",
       "      <td>0.000000e+00</td>\n",
       "      <td>3.000000e+05</td>\n",
       "      <td>0.000000e+00</td>\n",
       "    </tr>\n",
       "    <tr>\n",
       "      <th>25%</th>\n",
       "      <td>2.700000e+06</td>\n",
       "      <td>7.700000e+06</td>\n",
       "      <td>6.000000</td>\n",
       "      <td>453.000000</td>\n",
       "      <td>2.200000e+06</td>\n",
       "      <td>1.300000e+06</td>\n",
       "      <td>7.500000e+06</td>\n",
       "      <td>2.300000e+06</td>\n",
       "    </tr>\n",
       "    <tr>\n",
       "      <th>50%</th>\n",
       "      <td>5.100000e+06</td>\n",
       "      <td>1.450000e+07</td>\n",
       "      <td>10.000000</td>\n",
       "      <td>600.000000</td>\n",
       "      <td>5.600000e+06</td>\n",
       "      <td>3.700000e+06</td>\n",
       "      <td>1.460000e+07</td>\n",
       "      <td>4.600000e+06</td>\n",
       "    </tr>\n",
       "    <tr>\n",
       "      <th>75%</th>\n",
       "      <td>7.500000e+06</td>\n",
       "      <td>2.150000e+07</td>\n",
       "      <td>16.000000</td>\n",
       "      <td>748.000000</td>\n",
       "      <td>1.130000e+07</td>\n",
       "      <td>7.600000e+06</td>\n",
       "      <td>2.170000e+07</td>\n",
       "      <td>7.100000e+06</td>\n",
       "    </tr>\n",
       "    <tr>\n",
       "      <th>max</th>\n",
       "      <td>9.900000e+06</td>\n",
       "      <td>3.950000e+07</td>\n",
       "      <td>20.000000</td>\n",
       "      <td>900.000000</td>\n",
       "      <td>2.910000e+07</td>\n",
       "      <td>1.940000e+07</td>\n",
       "      <td>3.920000e+07</td>\n",
       "      <td>1.470000e+07</td>\n",
       "    </tr>\n",
       "  </tbody>\n",
       "</table>\n",
       "</div>"
      ],
      "text/plain": [
       "       income_annum   loan_amount    loan_term  cibil_score  \\\n",
       "count  4.269000e+03  4.269000e+03  4269.000000  4269.000000   \n",
       "mean   5.059124e+06  1.513345e+07    10.900445   599.936051   \n",
       "std    2.806840e+06  9.043363e+06     5.709187   172.430401   \n",
       "min    2.000000e+05  3.000000e+05     2.000000   300.000000   \n",
       "25%    2.700000e+06  7.700000e+06     6.000000   453.000000   \n",
       "50%    5.100000e+06  1.450000e+07    10.000000   600.000000   \n",
       "75%    7.500000e+06  2.150000e+07    16.000000   748.000000   \n",
       "max    9.900000e+06  3.950000e+07    20.000000   900.000000   \n",
       "\n",
       "       residential_assets_value  commercial_assets_value  luxury_assets_value  \\\n",
       "count              4.269000e+03             4.269000e+03         4.269000e+03   \n",
       "mean               7.472617e+06             4.973155e+06         1.512631e+07   \n",
       "std                6.503637e+06             4.388966e+06         9.103754e+06   \n",
       "min               -1.000000e+05             0.000000e+00         3.000000e+05   \n",
       "25%                2.200000e+06             1.300000e+06         7.500000e+06   \n",
       "50%                5.600000e+06             3.700000e+06         1.460000e+07   \n",
       "75%                1.130000e+07             7.600000e+06         2.170000e+07   \n",
       "max                2.910000e+07             1.940000e+07         3.920000e+07   \n",
       "\n",
       "       bank_asset_value  \n",
       "count      4.269000e+03  \n",
       "mean       4.976692e+06  \n",
       "std        3.250185e+06  \n",
       "min        0.000000e+00  \n",
       "25%        2.300000e+06  \n",
       "50%        4.600000e+06  \n",
       "75%        7.100000e+06  \n",
       "max        1.470000e+07  "
      ]
     },
     "execution_count": 9,
     "metadata": {},
     "output_type": "execute_result"
    }
   ],
   "source": [
    "X.describe()"
   ]
  },
  {
   "cell_type": "code",
   "execution_count": 10,
   "id": "36fd364e",
   "metadata": {},
   "outputs": [
    {
     "data": {
      "text/html": [
       "<div>\n",
       "<style scoped>\n",
       "    .dataframe tbody tr th:only-of-type {\n",
       "        vertical-align: middle;\n",
       "    }\n",
       "\n",
       "    .dataframe tbody tr th {\n",
       "        vertical-align: top;\n",
       "    }\n",
       "\n",
       "    .dataframe thead th {\n",
       "        text-align: right;\n",
       "    }\n",
       "</style>\n",
       "<table border=\"1\" class=\"dataframe\">\n",
       "  <thead>\n",
       "    <tr style=\"text-align: right;\">\n",
       "      <th></th>\n",
       "      <th>income_annum</th>\n",
       "      <th>loan_amount</th>\n",
       "      <th>loan_term</th>\n",
       "      <th>cibil_score</th>\n",
       "      <th>residential_assets_value</th>\n",
       "      <th>commercial_assets_value</th>\n",
       "      <th>luxury_assets_value</th>\n",
       "      <th>bank_asset_value</th>\n",
       "    </tr>\n",
       "  </thead>\n",
       "  <tbody>\n",
       "    <tr>\n",
       "      <th>0</th>\n",
       "      <td>9600000</td>\n",
       "      <td>29900000</td>\n",
       "      <td>12</td>\n",
       "      <td>778</td>\n",
       "      <td>2400000</td>\n",
       "      <td>17600000</td>\n",
       "      <td>22700000</td>\n",
       "      <td>8000000</td>\n",
       "    </tr>\n",
       "    <tr>\n",
       "      <th>1</th>\n",
       "      <td>4100000</td>\n",
       "      <td>12200000</td>\n",
       "      <td>8</td>\n",
       "      <td>417</td>\n",
       "      <td>2700000</td>\n",
       "      <td>2200000</td>\n",
       "      <td>8800000</td>\n",
       "      <td>3300000</td>\n",
       "    </tr>\n",
       "    <tr>\n",
       "      <th>2</th>\n",
       "      <td>9100000</td>\n",
       "      <td>29700000</td>\n",
       "      <td>20</td>\n",
       "      <td>506</td>\n",
       "      <td>7100000</td>\n",
       "      <td>4500000</td>\n",
       "      <td>33300000</td>\n",
       "      <td>12800000</td>\n",
       "    </tr>\n",
       "    <tr>\n",
       "      <th>3</th>\n",
       "      <td>8200000</td>\n",
       "      <td>30700000</td>\n",
       "      <td>8</td>\n",
       "      <td>467</td>\n",
       "      <td>18200000</td>\n",
       "      <td>3300000</td>\n",
       "      <td>23300000</td>\n",
       "      <td>7900000</td>\n",
       "    </tr>\n",
       "    <tr>\n",
       "      <th>4</th>\n",
       "      <td>9800000</td>\n",
       "      <td>24200000</td>\n",
       "      <td>20</td>\n",
       "      <td>382</td>\n",
       "      <td>12400000</td>\n",
       "      <td>8200000</td>\n",
       "      <td>29400000</td>\n",
       "      <td>5000000</td>\n",
       "    </tr>\n",
       "  </tbody>\n",
       "</table>\n",
       "</div>"
      ],
      "text/plain": [
       "   income_annum  loan_amount  loan_term  cibil_score  \\\n",
       "0       9600000     29900000         12          778   \n",
       "1       4100000     12200000          8          417   \n",
       "2       9100000     29700000         20          506   \n",
       "3       8200000     30700000          8          467   \n",
       "4       9800000     24200000         20          382   \n",
       "\n",
       "   residential_assets_value  commercial_assets_value  luxury_assets_value  \\\n",
       "0                   2400000                 17600000             22700000   \n",
       "1                   2700000                  2200000              8800000   \n",
       "2                   7100000                  4500000             33300000   \n",
       "3                  18200000                  3300000             23300000   \n",
       "4                  12400000                  8200000             29400000   \n",
       "\n",
       "   bank_asset_value  \n",
       "0           8000000  \n",
       "1           3300000  \n",
       "2          12800000  \n",
       "3           7900000  \n",
       "4           5000000  "
      ]
     },
     "execution_count": 10,
     "metadata": {},
     "output_type": "execute_result"
    }
   ],
   "source": [
    "X.head()"
   ]
  },
  {
   "cell_type": "code",
   "execution_count": null,
   "id": "1bf6d795",
   "metadata": {},
   "outputs": [],
   "source": []
  },
  {
   "cell_type": "code",
   "execution_count": 11,
   "id": "8bc1d04a",
   "metadata": {},
   "outputs": [],
   "source": [
    "loan_data[\"loan_status_binary\"] = loan_data[\"loan_status\"].map({\"Rejected\": 0, \"Approved\": 1})"
   ]
  },
  {
   "cell_type": "code",
   "execution_count": 12,
   "id": "5595ca2d",
   "metadata": {},
   "outputs": [
    {
     "data": {
      "text/html": [
       "<div>\n",
       "<style scoped>\n",
       "    .dataframe tbody tr th:only-of-type {\n",
       "        vertical-align: middle;\n",
       "    }\n",
       "\n",
       "    .dataframe tbody tr th {\n",
       "        vertical-align: top;\n",
       "    }\n",
       "\n",
       "    .dataframe thead th {\n",
       "        text-align: right;\n",
       "    }\n",
       "</style>\n",
       "<table border=\"1\" class=\"dataframe\">\n",
       "  <thead>\n",
       "    <tr style=\"text-align: right;\">\n",
       "      <th></th>\n",
       "      <th>loan_id</th>\n",
       "      <th>no_of_dependents</th>\n",
       "      <th>education</th>\n",
       "      <th>self_employed</th>\n",
       "      <th>income_annum</th>\n",
       "      <th>loan_amount</th>\n",
       "      <th>loan_term</th>\n",
       "      <th>cibil_score</th>\n",
       "      <th>residential_assets_value</th>\n",
       "      <th>commercial_assets_value</th>\n",
       "      <th>luxury_assets_value</th>\n",
       "      <th>bank_asset_value</th>\n",
       "      <th>loan_status</th>\n",
       "      <th>loan_status_binary</th>\n",
       "    </tr>\n",
       "  </thead>\n",
       "  <tbody>\n",
       "    <tr>\n",
       "      <th>0</th>\n",
       "      <td>1</td>\n",
       "      <td>2</td>\n",
       "      <td>Graduate</td>\n",
       "      <td>No</td>\n",
       "      <td>9600000</td>\n",
       "      <td>29900000</td>\n",
       "      <td>12</td>\n",
       "      <td>778</td>\n",
       "      <td>2400000</td>\n",
       "      <td>17600000</td>\n",
       "      <td>22700000</td>\n",
       "      <td>8000000</td>\n",
       "      <td>Approved</td>\n",
       "      <td>1</td>\n",
       "    </tr>\n",
       "    <tr>\n",
       "      <th>1</th>\n",
       "      <td>2</td>\n",
       "      <td>0</td>\n",
       "      <td>Not Graduate</td>\n",
       "      <td>Yes</td>\n",
       "      <td>4100000</td>\n",
       "      <td>12200000</td>\n",
       "      <td>8</td>\n",
       "      <td>417</td>\n",
       "      <td>2700000</td>\n",
       "      <td>2200000</td>\n",
       "      <td>8800000</td>\n",
       "      <td>3300000</td>\n",
       "      <td>Rejected</td>\n",
       "      <td>0</td>\n",
       "    </tr>\n",
       "    <tr>\n",
       "      <th>2</th>\n",
       "      <td>3</td>\n",
       "      <td>3</td>\n",
       "      <td>Graduate</td>\n",
       "      <td>No</td>\n",
       "      <td>9100000</td>\n",
       "      <td>29700000</td>\n",
       "      <td>20</td>\n",
       "      <td>506</td>\n",
       "      <td>7100000</td>\n",
       "      <td>4500000</td>\n",
       "      <td>33300000</td>\n",
       "      <td>12800000</td>\n",
       "      <td>Rejected</td>\n",
       "      <td>0</td>\n",
       "    </tr>\n",
       "    <tr>\n",
       "      <th>3</th>\n",
       "      <td>4</td>\n",
       "      <td>3</td>\n",
       "      <td>Graduate</td>\n",
       "      <td>No</td>\n",
       "      <td>8200000</td>\n",
       "      <td>30700000</td>\n",
       "      <td>8</td>\n",
       "      <td>467</td>\n",
       "      <td>18200000</td>\n",
       "      <td>3300000</td>\n",
       "      <td>23300000</td>\n",
       "      <td>7900000</td>\n",
       "      <td>Rejected</td>\n",
       "      <td>0</td>\n",
       "    </tr>\n",
       "    <tr>\n",
       "      <th>4</th>\n",
       "      <td>5</td>\n",
       "      <td>5</td>\n",
       "      <td>Not Graduate</td>\n",
       "      <td>Yes</td>\n",
       "      <td>9800000</td>\n",
       "      <td>24200000</td>\n",
       "      <td>20</td>\n",
       "      <td>382</td>\n",
       "      <td>12400000</td>\n",
       "      <td>8200000</td>\n",
       "      <td>29400000</td>\n",
       "      <td>5000000</td>\n",
       "      <td>Rejected</td>\n",
       "      <td>0</td>\n",
       "    </tr>\n",
       "    <tr>\n",
       "      <th>...</th>\n",
       "      <td>...</td>\n",
       "      <td>...</td>\n",
       "      <td>...</td>\n",
       "      <td>...</td>\n",
       "      <td>...</td>\n",
       "      <td>...</td>\n",
       "      <td>...</td>\n",
       "      <td>...</td>\n",
       "      <td>...</td>\n",
       "      <td>...</td>\n",
       "      <td>...</td>\n",
       "      <td>...</td>\n",
       "      <td>...</td>\n",
       "      <td>...</td>\n",
       "    </tr>\n",
       "    <tr>\n",
       "      <th>4264</th>\n",
       "      <td>4265</td>\n",
       "      <td>5</td>\n",
       "      <td>Graduate</td>\n",
       "      <td>Yes</td>\n",
       "      <td>1000000</td>\n",
       "      <td>2300000</td>\n",
       "      <td>12</td>\n",
       "      <td>317</td>\n",
       "      <td>2800000</td>\n",
       "      <td>500000</td>\n",
       "      <td>3300000</td>\n",
       "      <td>800000</td>\n",
       "      <td>Rejected</td>\n",
       "      <td>0</td>\n",
       "    </tr>\n",
       "    <tr>\n",
       "      <th>4265</th>\n",
       "      <td>4266</td>\n",
       "      <td>0</td>\n",
       "      <td>Not Graduate</td>\n",
       "      <td>Yes</td>\n",
       "      <td>3300000</td>\n",
       "      <td>11300000</td>\n",
       "      <td>20</td>\n",
       "      <td>559</td>\n",
       "      <td>4200000</td>\n",
       "      <td>2900000</td>\n",
       "      <td>11000000</td>\n",
       "      <td>1900000</td>\n",
       "      <td>Approved</td>\n",
       "      <td>1</td>\n",
       "    </tr>\n",
       "    <tr>\n",
       "      <th>4266</th>\n",
       "      <td>4267</td>\n",
       "      <td>2</td>\n",
       "      <td>Not Graduate</td>\n",
       "      <td>No</td>\n",
       "      <td>6500000</td>\n",
       "      <td>23900000</td>\n",
       "      <td>18</td>\n",
       "      <td>457</td>\n",
       "      <td>1200000</td>\n",
       "      <td>12400000</td>\n",
       "      <td>18100000</td>\n",
       "      <td>7300000</td>\n",
       "      <td>Rejected</td>\n",
       "      <td>0</td>\n",
       "    </tr>\n",
       "    <tr>\n",
       "      <th>4267</th>\n",
       "      <td>4268</td>\n",
       "      <td>1</td>\n",
       "      <td>Not Graduate</td>\n",
       "      <td>No</td>\n",
       "      <td>4100000</td>\n",
       "      <td>12800000</td>\n",
       "      <td>8</td>\n",
       "      <td>780</td>\n",
       "      <td>8200000</td>\n",
       "      <td>700000</td>\n",
       "      <td>14100000</td>\n",
       "      <td>5800000</td>\n",
       "      <td>Approved</td>\n",
       "      <td>1</td>\n",
       "    </tr>\n",
       "    <tr>\n",
       "      <th>4268</th>\n",
       "      <td>4269</td>\n",
       "      <td>1</td>\n",
       "      <td>Graduate</td>\n",
       "      <td>No</td>\n",
       "      <td>9200000</td>\n",
       "      <td>29700000</td>\n",
       "      <td>10</td>\n",
       "      <td>607</td>\n",
       "      <td>17800000</td>\n",
       "      <td>11800000</td>\n",
       "      <td>35700000</td>\n",
       "      <td>12000000</td>\n",
       "      <td>Approved</td>\n",
       "      <td>1</td>\n",
       "    </tr>\n",
       "  </tbody>\n",
       "</table>\n",
       "<p>4269 rows × 14 columns</p>\n",
       "</div>"
      ],
      "text/plain": [
       "      loan_id  no_of_dependents     education self_employed  income_annum  \\\n",
       "0           1                 2      Graduate            No       9600000   \n",
       "1           2                 0  Not Graduate           Yes       4100000   \n",
       "2           3                 3      Graduate            No       9100000   \n",
       "3           4                 3      Graduate            No       8200000   \n",
       "4           5                 5  Not Graduate           Yes       9800000   \n",
       "...       ...               ...           ...           ...           ...   \n",
       "4264     4265                 5      Graduate           Yes       1000000   \n",
       "4265     4266                 0  Not Graduate           Yes       3300000   \n",
       "4266     4267                 2  Not Graduate            No       6500000   \n",
       "4267     4268                 1  Not Graduate            No       4100000   \n",
       "4268     4269                 1      Graduate            No       9200000   \n",
       "\n",
       "      loan_amount  loan_term  cibil_score  residential_assets_value  \\\n",
       "0        29900000         12          778                   2400000   \n",
       "1        12200000          8          417                   2700000   \n",
       "2        29700000         20          506                   7100000   \n",
       "3        30700000          8          467                  18200000   \n",
       "4        24200000         20          382                  12400000   \n",
       "...           ...        ...          ...                       ...   \n",
       "4264      2300000         12          317                   2800000   \n",
       "4265     11300000         20          559                   4200000   \n",
       "4266     23900000         18          457                   1200000   \n",
       "4267     12800000          8          780                   8200000   \n",
       "4268     29700000         10          607                  17800000   \n",
       "\n",
       "      commercial_assets_value  luxury_assets_value  bank_asset_value  \\\n",
       "0                    17600000             22700000           8000000   \n",
       "1                     2200000              8800000           3300000   \n",
       "2                     4500000             33300000          12800000   \n",
       "3                     3300000             23300000           7900000   \n",
       "4                     8200000             29400000           5000000   \n",
       "...                       ...                  ...               ...   \n",
       "4264                   500000              3300000            800000   \n",
       "4265                  2900000             11000000           1900000   \n",
       "4266                 12400000             18100000           7300000   \n",
       "4267                   700000             14100000           5800000   \n",
       "4268                 11800000             35700000          12000000   \n",
       "\n",
       "     loan_status  loan_status_binary  \n",
       "0       Approved                   1  \n",
       "1       Rejected                   0  \n",
       "2       Rejected                   0  \n",
       "3       Rejected                   0  \n",
       "4       Rejected                   0  \n",
       "...          ...                 ...  \n",
       "4264    Rejected                   0  \n",
       "4265    Approved                   1  \n",
       "4266    Rejected                   0  \n",
       "4267    Approved                   1  \n",
       "4268    Approved                   1  \n",
       "\n",
       "[4269 rows x 14 columns]"
      ]
     },
     "execution_count": 12,
     "metadata": {},
     "output_type": "execute_result"
    }
   ],
   "source": [
    "loan_data"
   ]
  },
  {
   "cell_type": "code",
   "execution_count": 14,
   "id": "ec3bbd67",
   "metadata": {},
   "outputs": [],
   "source": [
    "y = loan_data[\"loan_status_binary\"]\n"
   ]
  },
  {
   "cell_type": "code",
   "execution_count": 15,
   "id": "770217c4",
   "metadata": {},
   "outputs": [
    {
     "data": {
      "text/plain": [
       "count    4269.000000\n",
       "mean        0.622160\n",
       "std         0.484904\n",
       "min         0.000000\n",
       "25%         0.000000\n",
       "50%         1.000000\n",
       "75%         1.000000\n",
       "max         1.000000\n",
       "Name: loan_status_binary, dtype: float64"
      ]
     },
     "execution_count": 15,
     "metadata": {},
     "output_type": "execute_result"
    }
   ],
   "source": [
    "y.describe()"
   ]
  },
  {
   "cell_type": "code",
   "execution_count": 16,
   "id": "bd278a48",
   "metadata": {},
   "outputs": [
    {
     "data": {
      "text/plain": [
       "0    1\n",
       "1    0\n",
       "2    0\n",
       "3    0\n",
       "4    0\n",
       "Name: loan_status_binary, dtype: int64"
      ]
     },
     "execution_count": 16,
     "metadata": {},
     "output_type": "execute_result"
    }
   ],
   "source": [
    "y.head()"
   ]
  },
  {
   "cell_type": "code",
   "execution_count": null,
   "id": "be93e019",
   "metadata": {},
   "outputs": [],
   "source": []
  },
  {
   "cell_type": "code",
   "execution_count": null,
   "id": "18e5b038",
   "metadata": {},
   "outputs": [],
   "source": []
  },
  {
   "cell_type": "markdown",
   "id": "25602014",
   "metadata": {},
   "source": [
    "# Training with Logistic Regression"
   ]
  },
  {
   "cell_type": "code",
   "execution_count": 17,
   "id": "29b018d9",
   "metadata": {},
   "outputs": [],
   "source": [
    "from sklearn.model_selection import train_test_split\n",
    "X_train, X_test, y_train, y_test = train_test_split(X,y,test_size=0.2)"
   ]
  },
  {
   "cell_type": "code",
   "execution_count": 18,
   "id": "cab52382",
   "metadata": {},
   "outputs": [],
   "source": [
    "from sklearn.preprocessing import StandardScaler\n",
    "sc = StandardScaler()\n",
    "X_train = sc.fit_transform((X_train))\n",
    "X_test= sc.transform(X_test)"
   ]
  },
  {
   "cell_type": "code",
   "execution_count": 19,
   "id": "1ee01c13",
   "metadata": {},
   "outputs": [
    {
     "data": {
      "text/plain": [
       "LogisticRegression()"
      ]
     },
     "execution_count": 19,
     "metadata": {},
     "output_type": "execute_result"
    }
   ],
   "source": [
    "from sklearn.linear_model import LogisticRegression\n",
    "lr = LogisticRegression()\n",
    "lr.fit(X_train, y_train)"
   ]
  },
  {
   "cell_type": "code",
   "execution_count": null,
   "id": "a718512e",
   "metadata": {},
   "outputs": [],
   "source": []
  },
  {
   "cell_type": "code",
   "execution_count": 20,
   "id": "543c76a4",
   "metadata": {},
   "outputs": [
    {
     "data": {
      "text/plain": [
       "array([0, 1, 1, 1, 0, 0, 1, 1, 1, 0, 1, 1, 1, 1, 0, 0, 0, 1, 1, 0, 1, 1,\n",
       "       0, 1, 1, 1, 1, 0, 1, 0, 0, 1, 1, 1, 0, 0, 1, 1, 1, 0, 0, 0, 1, 1,\n",
       "       1, 0, 0, 0, 0, 0, 1, 0, 1, 0, 0, 0, 1, 0, 1, 0, 0, 1, 1, 0, 1, 0,\n",
       "       1, 1, 0, 1, 1, 1, 0, 1, 0, 1, 0, 1, 0, 1, 1, 0, 1, 0, 0, 1, 1, 1,\n",
       "       0, 0, 1, 1, 1, 1, 1, 1, 0, 1, 0, 1, 0, 1, 0, 1, 0, 0, 0, 1, 1, 1,\n",
       "       1, 1, 1, 1, 1, 1, 0, 1, 1, 1, 0, 0, 1, 1, 1, 1, 1, 1, 1, 0, 0, 1,\n",
       "       1, 0, 0, 1, 0, 1, 1, 1, 1, 0, 1, 0, 1, 0, 1, 1, 1, 0, 1, 1, 0, 0,\n",
       "       1, 0, 0, 0, 1, 1, 1, 1, 1, 1, 0, 1, 0, 1, 1, 0, 1, 0, 1, 0, 1, 1,\n",
       "       1, 0, 1, 1, 1, 1, 0, 1, 0, 0, 1, 0, 1, 1, 1, 1, 1, 1, 1, 1, 0, 0,\n",
       "       1, 0, 1, 1, 1, 1, 1, 0, 1, 0, 0, 0, 0, 0, 1, 1, 0, 0, 0, 1, 0, 1,\n",
       "       1, 1, 0, 0, 1, 1, 0, 1, 1, 1, 0, 0, 1, 1, 1, 1, 1, 0, 0, 0, 1, 0,\n",
       "       1, 1, 1, 1, 1, 0, 0, 1, 0, 0, 1, 1, 1, 1, 0, 1, 0, 0, 1, 1, 1, 1,\n",
       "       1, 0, 1, 1, 1, 1, 1, 1, 0, 0, 1, 1, 1, 1, 1, 1, 1, 0, 1, 0, 0, 0,\n",
       "       1, 0, 1, 1, 0, 0, 1, 0, 0, 1, 0, 1, 1, 1, 0, 1, 1, 1, 0, 1, 0, 0,\n",
       "       1, 0, 1, 1, 1, 1, 1, 1, 1, 0, 0, 1, 1, 0, 1, 1, 1, 1, 0, 1, 0, 0,\n",
       "       1, 1, 1, 1, 1, 0, 1, 0, 0, 1, 1, 1, 1, 0, 1, 0, 1, 0, 1, 0, 1, 1,\n",
       "       1, 0, 1, 1, 1, 0, 0, 1, 0, 0, 1, 1, 1, 0, 0, 1, 0, 0, 1, 0, 0, 1,\n",
       "       1, 0, 1, 1, 1, 1, 1, 1, 1, 1, 1, 0, 1, 1, 0, 0, 1, 0, 0, 1, 1, 1,\n",
       "       0, 1, 0, 0, 1, 1, 1, 0, 1, 1, 1, 1, 1, 1, 1, 1, 1, 1, 1, 1, 1, 1,\n",
       "       0, 1, 0, 1, 1, 0, 0, 0, 1, 0, 1, 1, 1, 1, 1, 1, 1, 1, 1, 1, 1, 0,\n",
       "       0, 0, 1, 0, 0, 0, 0, 1, 0, 1, 1, 1, 0, 1, 1, 1, 0, 0, 1, 1, 0, 0,\n",
       "       0, 1, 1, 0, 1, 1, 0, 1, 0, 1, 0, 0, 1, 1, 1, 1, 0, 0, 1, 0, 0, 0,\n",
       "       1, 1, 1, 1, 0, 0, 1, 1, 1, 1, 0, 1, 1, 1, 0, 1, 1, 1, 1, 0, 0, 1,\n",
       "       0, 1, 0, 1, 0, 1, 1, 0, 0, 1, 1, 1, 1, 1, 1, 1, 1, 0, 1, 1, 1, 1,\n",
       "       0, 0, 1, 1, 0, 1, 0, 0, 0, 1, 0, 1, 0, 1, 1, 1, 0, 1, 1, 1, 1, 1,\n",
       "       1, 1, 1, 1, 1, 0, 1, 1, 0, 0, 1, 1, 0, 1, 0, 1, 0, 0, 0, 1, 1, 1,\n",
       "       0, 1, 1, 0, 1, 1, 0, 1, 1, 1, 0, 1, 1, 1, 1, 1, 0, 1, 1, 0, 1, 1,\n",
       "       1, 1, 1, 0, 1, 1, 1, 0, 0, 1, 1, 1, 1, 1, 0, 0, 0, 1, 0, 0, 1, 1,\n",
       "       0, 1, 1, 1, 1, 1, 1, 1, 1, 1, 0, 0, 1, 1, 1, 1, 1, 0, 0, 0, 1, 1,\n",
       "       1, 1, 1, 1, 1, 0, 0, 0, 1, 0, 1, 1, 0, 1, 1, 1, 1, 0, 0, 0, 1, 0,\n",
       "       0, 1, 0, 1, 0, 1, 0, 0, 1, 0, 1, 1, 1, 0, 1, 1, 1, 0, 1, 1, 1, 1,\n",
       "       1, 1, 1, 0, 1, 1, 0, 1, 0, 0, 1, 0, 0, 1, 0, 1, 0, 1, 1, 1, 1, 0,\n",
       "       1, 1, 1, 0, 1, 1, 0, 0, 1, 1, 1, 1, 1, 1, 0, 0, 0, 0, 1, 1, 1, 1,\n",
       "       0, 0, 1, 1, 1, 0, 1, 1, 0, 1, 1, 1, 0, 0, 1, 1, 0, 1, 1, 1, 1, 0,\n",
       "       1, 0, 0, 0, 1, 1, 1, 1, 1, 0, 0, 1, 1, 1, 1, 1, 1, 1, 0, 1, 0, 1,\n",
       "       0, 1, 1, 1, 1, 1, 0, 1, 1, 1, 0, 1, 1, 1, 0, 1, 1, 1, 1, 1, 0, 1,\n",
       "       1, 1, 1, 1, 0, 0, 0, 1, 0, 0, 0, 1, 1, 1, 1, 1, 0, 0, 0, 1, 0, 1,\n",
       "       0, 1, 1, 1, 1, 1, 1, 1, 1, 1, 1, 0, 1, 1, 1, 1, 1, 1, 0, 1, 0, 0,\n",
       "       1, 1, 1, 1, 1, 1, 1, 1, 1, 1, 1, 1, 0, 1, 1, 0, 1, 1], dtype=int64)"
      ]
     },
     "execution_count": 20,
     "metadata": {},
     "output_type": "execute_result"
    }
   ],
   "source": [
    "y_pred = lr.predict(X_test)\n",
    "y_pred"
   ]
  },
  {
   "cell_type": "code",
   "execution_count": null,
   "id": "de363276",
   "metadata": {},
   "outputs": [],
   "source": []
  },
  {
   "cell_type": "code",
   "execution_count": 21,
   "id": "3df8b32a",
   "metadata": {},
   "outputs": [],
   "source": [
    "from sklearn.metrics import classification_report, confusion_matrix, accuracy_score"
   ]
  },
  {
   "cell_type": "code",
   "execution_count": 22,
   "id": "5318e16d",
   "metadata": {},
   "outputs": [
    {
     "data": {
      "text/plain": [
       "92.03747072599532"
      ]
     },
     "execution_count": 22,
     "metadata": {},
     "output_type": "execute_result"
    }
   ],
   "source": [
    "result = accuracy_score(y_test,y_pred)*100\n",
    "result"
   ]
  },
  {
   "cell_type": "code",
   "execution_count": null,
   "id": "b42b1e15",
   "metadata": {},
   "outputs": [],
   "source": []
  },
  {
   "cell_type": "code",
   "execution_count": 23,
   "id": "cf027c1c",
   "metadata": {},
   "outputs": [
    {
     "data": {
      "text/plain": [
       "array([[273,  36],\n",
       "       [ 32, 513]], dtype=int64)"
      ]
     },
     "execution_count": 23,
     "metadata": {},
     "output_type": "execute_result"
    }
   ],
   "source": [
    "cmatrix = confusion_matrix(y_test,y_pred)\n",
    "cmatrix"
   ]
  },
  {
   "cell_type": "code",
   "execution_count": null,
   "id": "9abc9b77",
   "metadata": {},
   "outputs": [],
   "source": []
  },
  {
   "cell_type": "code",
   "execution_count": 24,
   "id": "7099978a",
   "metadata": {},
   "outputs": [
    {
     "name": "stdout",
     "output_type": "stream",
     "text": [
      "              precision    recall  f1-score   support\n",
      "\n",
      "           0       0.90      0.88      0.89       309\n",
      "           1       0.93      0.94      0.94       545\n",
      "\n",
      "    accuracy                           0.92       854\n",
      "   macro avg       0.91      0.91      0.91       854\n",
      "weighted avg       0.92      0.92      0.92       854\n",
      "\n"
     ]
    }
   ],
   "source": [
    "creport = classification_report(y_test,y_pred)\n",
    "print(creport)"
   ]
  },
  {
   "cell_type": "code",
   "execution_count": null,
   "id": "ec1a64c8",
   "metadata": {},
   "outputs": [],
   "source": []
  },
  {
   "cell_type": "code",
   "execution_count": null,
   "id": "4498a62c",
   "metadata": {},
   "outputs": [],
   "source": []
  },
  {
   "cell_type": "markdown",
   "id": "e8ff2ff8",
   "metadata": {},
   "source": [
    "# Visualizing Confusion Matrix"
   ]
  },
  {
   "cell_type": "code",
   "execution_count": 25,
   "id": "90668a1b",
   "metadata": {},
   "outputs": [
    {
     "data": {
      "image/png": "[encoded data removed]",
      "text/plain": [
       "<Figure size 1000x700 with 2 Axes>"
      ]
     },
     "metadata": {},
     "output_type": "display_data"
    }
   ],
   "source": [
    "import matplotlib.pyplot as plt\n",
    "import seaborn as sns\n",
    "from sklearn.metrics import confusion_matrix, ConfusionMatrixDisplay, classification_report\n",
    "\n",
    "\n",
    "y_pred = lr.predict(X_test)\n",
    "\n",
    "\n",
    "cm = confusion_matrix(y_test, y_pred)\n",
    "\n",
    "\n",
    "plt.figure(figsize=(10,7))\n",
    "sns.heatmap(cm, annot=True, fmt=\"d\", cmap=\"Blues\", xticklabels=set(y_test), yticklabels=set(y_test))\n",
    "plt.xlabel(\"Predicted\")\n",
    "plt.ylabel(\"Actual\")\n",
    "plt.title(\"Confusion Matrix\")\n",
    "plt.show()\n",
    "\n"
   ]
  },
  {
   "cell_type": "code",
   "execution_count": null,
   "id": "5451be6e",
   "metadata": {},
   "outputs": [],
   "source": []
  },
  {
   "cell_type": "code",
   "execution_count": null,
   "id": "da6ad532",
   "metadata": {},
   "outputs": [],
   "source": []
  },
  {
   "cell_type": "markdown",
   "id": "7ad0d621",
   "metadata": {},
   "source": [
    "# Classification Report Heat Map"
   ]
  },
  {
   "cell_type": "code",
   "execution_count": 26,
   "id": "2ec0346a",
   "metadata": {},
   "outputs": [
    {
     "data": {
      "image/png": "[encoded data removed]",
      "text/plain": [
       "<Figure size 800x600 with 2 Axes>"
      ]
     },
     "metadata": {},
     "output_type": "display_data"
    }
   ],
   "source": [
    "from sklearn.metrics import classification_report\n",
    "import pandas as pd\n",
    "import seaborn as sns\n",
    "import matplotlib.pyplot as plt\n",
    "\n",
    "\n",
    "report = classification_report(y_test, y_pred, output_dict=True)\n",
    "df_report = pd.DataFrame(report).transpose()\n",
    "\n",
    "plt.figure(figsize=(8,6))\n",
    "sns.heatmap(df_report.iloc[:-1, :-1], annot=True, cmap=\"Blues\")\n",
    "plt.title(\"Classification Report Heatmap\")\n",
    "plt.show()\n"
   ]
  },
  {
   "cell_type": "code",
   "execution_count": null,
   "id": "954971cc",
   "metadata": {},
   "outputs": [],
   "source": []
  },
  {
   "cell_type": "markdown",
   "id": "be6017e8",
   "metadata": {},
   "source": [
    "# BarChart plotting cibil score against loan_status"
   ]
  },
  {
   "cell_type": "code",
   "execution_count": 27,
   "id": "f6dcbfae",
   "metadata": {},
   "outputs": [
    {
     "data": {
      "text/plain": [
       "<AxesSubplot:xlabel='loan_status', ylabel='cibil_score'>"
      ]
     },
     "execution_count": 27,
     "metadata": {},
     "output_type": "execute_result"
    },
    {
     "data": {
      "image/png": "[encoded data removed]",
      "text/plain": [
       "<Figure size 640x480 with 1 Axes>"
      ]
     },
     "metadata": {},
     "output_type": "display_data"
    }
   ],
   "source": [
    "sns.barplot(x='loan_status', y='cibil_score', data=loan_data)"
   ]
  },
  {
   "cell_type": "code",
   "execution_count": null,
   "id": "6ff5e4b5",
   "metadata": {},
   "outputs": [],
   "source": []
  },
  {
   "cell_type": "code",
   "execution_count": null,
   "id": "2783f2f7",
   "metadata": {},
   "outputs": [],
   "source": []
  },
  {
   "cell_type": "markdown",
   "id": "3f4e2e21",
   "metadata": {},
   "source": [
    "# Training with RandomForestClassifier"
   ]
  },
  {
   "cell_type": "code",
   "execution_count": 28,
   "id": "2dc98b5c",
   "metadata": {},
   "outputs": [],
   "source": [
    "from sklearn.model_selection import train_test_split\n",
    "X_train, X_test, y_train, y_test = train_test_split(X,y,test_size=0.2)"
   ]
  },
  {
   "cell_type": "code",
   "execution_count": 29,
   "id": "d84edbc4",
   "metadata": {},
   "outputs": [
    {
     "data": {
      "text/plain": [
       "RandomForestClassifier(class_weight='balanced', random_state=42)"
      ]
     },
     "execution_count": 29,
     "metadata": {},
     "output_type": "execute_result"
    }
   ],
   "source": [
    "from sklearn.ensemble import RandomForestClassifier\n",
    "rfc = RandomForestClassifier(n_estimators=100, random_state=42, class_weight=\"balanced\")\n",
    "rfc.fit(X_train,y_train)"
   ]
  },
  {
   "cell_type": "code",
   "execution_count": null,
   "id": "2283f218",
   "metadata": {},
   "outputs": [],
   "source": []
  },
  {
   "cell_type": "code",
   "execution_count": 30,
   "id": "8cedcef6",
   "metadata": {},
   "outputs": [],
   "source": [
    "y_pred = rfc.predict(X_test)"
   ]
  },
  {
   "cell_type": "code",
   "execution_count": null,
   "id": "41616d62",
   "metadata": {},
   "outputs": [],
   "source": []
  },
  {
   "cell_type": "code",
   "execution_count": 31,
   "id": "995ccce1",
   "metadata": {},
   "outputs": [
    {
     "data": {
      "text/plain": [
       "98.36065573770492"
      ]
     },
     "execution_count": 31,
     "metadata": {},
     "output_type": "execute_result"
    }
   ],
   "source": [
    "result = accuracy_score(y_test,y_pred)*100\n",
    "result"
   ]
  },
  {
   "cell_type": "code",
   "execution_count": null,
   "id": "59cb2472",
   "metadata": {},
   "outputs": [],
   "source": []
  },
  {
   "cell_type": "code",
   "execution_count": 32,
   "id": "302843a5",
   "metadata": {},
   "outputs": [
    {
     "name": "stdout",
     "output_type": "stream",
     "text": [
      "              precision    recall  f1-score   support\n",
      "\n",
      "           0       0.97      0.98      0.98       316\n",
      "           1       0.99      0.99      0.99       538\n",
      "\n",
      "    accuracy                           0.98       854\n",
      "   macro avg       0.98      0.98      0.98       854\n",
      "weighted avg       0.98      0.98      0.98       854\n",
      "\n"
     ]
    }
   ],
   "source": [
    "creport = classification_report(y_test,y_pred)\n",
    "print(creport)"
   ]
  },
  {
   "cell_type": "code",
   "execution_count": null,
   "id": "75b191d7",
   "metadata": {},
   "outputs": [],
   "source": []
  },
  {
   "cell_type": "code",
   "execution_count": 33,
   "id": "ff2f366c",
   "metadata": {},
   "outputs": [],
   "source": [
    "from joblib import dump"
   ]
  },
  {
   "cell_type": "code",
   "execution_count": 34,
   "id": "c42e450f",
   "metadata": {},
   "outputs": [
    {
     "data": {
      "text/plain": [
       "['loan_approval_prediction_model.joblib']"
      ]
     },
     "execution_count": 34,
     "metadata": {},
     "output_type": "execute_result"
    }
   ],
   "source": [
    "file = 'loan_approval_prediction_model.joblib'\n",
    "dump(rfc,file)"
   ]
  },
  {
   "cell_type": "code",
   "execution_count": null,
   "id": "1fe2a06c",
   "metadata": {},
   "outputs": [],
   "source": []
  },
  {
   "cell_type": "code",
   "execution_count": null,
   "id": "02ac2670",
   "metadata": {},
   "outputs": [],
   "source": []
  },
  {
   "cell_type": "markdown",
   "id": "9ae0aeee",
   "metadata": {},
   "source": [
    "# Confusion matrix for RandomForestClassifier Model"
   ]
  },
  {
   "cell_type": "code",
   "execution_count": 35,
   "id": "2233304d",
   "metadata": {},
   "outputs": [
    {
     "data": {
      "image/png": "[encoded data removed]",
      "text/plain": [
       "<Figure size 1000x700 with 2 Axes>"
      ]
     },
     "metadata": {},
     "output_type": "display_data"
    }
   ],
   "source": [
    "import matplotlib.pyplot as plt\n",
    "import seaborn as sns\n",
    "from sklearn.metrics import confusion_matrix, ConfusionMatrixDisplay, classification_report\n",
    "\n",
    "y_pred = rfc.predict(X_test)\n",
    "\n",
    "\n",
    "cm = confusion_matrix(y_test, y_pred)\n",
    "\n",
    "\n",
    "plt.figure(figsize=(10,7))\n",
    "sns.heatmap(cm, annot=True, fmt=\"d\", cmap=\"Blues\", xticklabels=set(y_test), yticklabels=set(y_test))\n",
    "plt.xlabel(\"Predicted\")\n",
    "plt.ylabel(\"Actual\")\n",
    "plt.title(\"Confusion Matrix\")\n",
    "plt.show()"
   ]
  },
  {
   "cell_type": "code",
   "execution_count": null,
   "id": "050d53a1",
   "metadata": {},
   "outputs": [],
   "source": []
  },
  {
   "cell_type": "code",
   "execution_count": null,
   "id": "00dbd2a9",
   "metadata": {},
   "outputs": [],
   "source": [
    "\n"
   ]
  },
  {
   "cell_type": "markdown",
   "id": "e0d3adb5",
   "metadata": {},
   "source": [
    "# Heat Map"
   ]
  },
  {
   "cell_type": "code",
   "execution_count": 37,
   "id": "93863dcd",
   "metadata": {},
   "outputs": [
    {
     "data": {
      "image/png": "[encoded data removed]",
      "text/plain": [
       "<Figure size 800x600 with 2 Axes>"
      ]
     },
     "metadata": {},
     "output_type": "display_data"
    }
   ],
   "source": [
    "from sklearn.metrics import classification_report\n",
    "import pandas as pd\n",
    "import seaborn as sns\n",
    "import matplotlib.pyplot as plt\n",
    "\n",
    "\n",
    "report = classification_report(y_test, y_pred, output_dict=True)\n",
    "df_report = pd.DataFrame(report).transpose()\n",
    "\n",
    "plt.figure(figsize=(8,6))\n",
    "sns.heatmap(df_report.iloc[:-1, :-1], annot=True, cmap=\"Blues\")\n",
    "plt.title(\"Classification Report Heatmap\")\n",
    "plt.show()"
   ]
  },
  {
   "cell_type": "code",
   "execution_count": null,
   "id": "d2653189",
   "metadata": {},
   "outputs": [],
   "source": []
  },
  {
   "cell_type": "code",
   "execution_count": null,
   "id": "4966131c",
   "metadata": {},
   "outputs": [],
   "source": []
  },
  {
   "cell_type": "markdown",
   "id": "156dd36e",
   "metadata": {},
   "source": [
    "# Feature Importance"
   ]
  },
  {
   "cell_type": "code",
   "execution_count": 42,
   "id": "a394b6f4",
   "metadata": {},
   "outputs": [
    {
     "data": {
      "image/png": "[encoded data removed]",
      "text/plain": [
       "<Figure size 1000x600 with 1 Axes>"
      ]
     },
     "metadata": {},
     "output_type": "display_data"
    }
   ],
   "source": [
    "import pandas as pd\n",
    "import matplotlib.pyplot as plt\n",
    "import seaborn as sns\n",
    "\n",
    "\n",
    "importances = rfc.feature_importances_\n",
    "feature_names = X_train.columns\n",
    "\n",
    "\n",
    "feat_imp = pd.DataFrame({\"Feature\": feature_names, \"Importance\": importances})\n",
    "feat_imp = feat_imp.sort_values(by=\"Importance\", ascending=True)\n",
    "\n",
    "\n",
    "plt.figure(figsize=(10,6))\n",
    "sns.barplot(x=\"Importance\", y=\"Feature\", data=feat_imp.head(20))\n",
    "plt.title(\"Top Feature Importances\")\n",
    "plt.show()"
   ]
  }
 ],
 "metadata": {
  "kernelspec": {
   "display_name": "Python 3 (ipykernel)",
   "language": "python",
   "name": "python3"
  },
  "language_info": {
   "codemirror_mode": {
    "name": "ipython",
    "version": 3
   },
   "file_extension": ".py",
   "mimetype": "text/x-python",
   "name": "python",
   "nbconvert_exporter": "python",
   "pygments_lexer": "ipython3",
   "version": "3.9.13"
  }
 },
 "nbformat": 4,
 "nbformat_minor": 5
}
